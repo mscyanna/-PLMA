{
  "nbformat": 4,
  "nbformat_minor": 0,
  "metadata": {
    "colab": {
      "provenance": []
    },
    "kernelspec": {
      "name": "python3",
      "display_name": "Python 3"
    },
    "language_info": {
      "name": "python"
    }
  },
  "cells": [
    {
      "cell_type": "code",
      "execution_count": 25,
      "metadata": {
        "colab": {
          "base_uri": "https://localhost:8080/"
        },
        "id": "__45ZAV8cOyg",
        "outputId": "371168d6-96bc-4340-b5c8-131046a620cd"
      },
      "outputs": [
        {
          "output_type": "stream",
          "name": "stdout",
          "text": [
            "88.33333333333333\n",
            "[95, 80, 90]\n",
            "95.0\n",
            "[95, 100, 90]\n"
          ]
        }
      ],
      "source": [
        "import copy\n",
        "a={'姓名':'賴宏瑋','性別':'男','作業分數':[95,100,90]}\n",
        "b={'學號':'M1129020'}\n",
        "c={**b,**a}\n",
        "d=copy.deepcopy(c)\n",
        "c['作業分數'][1]=80\n",
        "d['姓名']='許珈綺'\n",
        "d['性別']='女'\n",
        "d['學號']='M1229001'\n",
        "e=c.pop('作業分數')\n",
        "avg1=sum(e)/len(e)\n",
        "f=d.pop('作業分數')\n",
        "avg2=sum(f)/len(f)\n",
        "\n",
        "print(avg1)\n",
        "print(e)\n",
        "print(avg2)\n",
        "print(f)"
      ]
    },
    {
      "cell_type": "code",
      "source": [
        "a=[100,50,45,60,90,95,80,50]\n",
        "a[2:5]=[70,50]\n",
        "\n",
        "a.remove(50)\n",
        "\n",
        "b=a.pop()\n",
        "\n",
        "c=a.pop(0)\n",
        "\n",
        "sum=b+c\n",
        "print(sum)"
      ],
      "metadata": {
        "colab": {
          "base_uri": "https://localhost:8080/"
        },
        "id": "T-Bk54xejrmB",
        "outputId": "3c8e98a1-1e54-4ff5-adbf-1d00dfac97d6"
      },
      "execution_count": 34,
      "outputs": [
        {
          "output_type": "stream",
          "name": "stdout",
          "text": [
            "150\n"
          ]
        }
      ]
    },
    {
      "cell_type": "code",
      "source": [
        "a=347//3\n",
        "b=347-3*a\n",
        "print(a**b)"
      ],
      "metadata": {
        "colab": {
          "base_uri": "https://localhost:8080/"
        },
        "id": "ZYIcrkiMl9jC",
        "outputId": "c4dae9de-38a2-4b98-ed13-9851181c5755"
      },
      "execution_count": 38,
      "outputs": [
        {
          "output_type": "stream",
          "name": "stdout",
          "text": [
            "115\n",
            "2\n",
            "13225\n"
          ]
        }
      ]
    }
  ]
}