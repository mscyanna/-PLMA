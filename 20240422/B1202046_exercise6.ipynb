{
  "nbformat": 4,
  "nbformat_minor": 0,
  "metadata": {
    "colab": {
      "provenance": []
    },
    "kernelspec": {
      "name": "python3",
      "display_name": "Python 3"
    },
    "language_info": {
      "name": "python"
    }
  },
  "cells": [
    {
      "cell_type": "code",
      "execution_count": null,
      "metadata": {
        "colab": {
          "base_uri": "https://localhost:8080/"
        },
        "id": "31AWMYTZmzUd",
        "outputId": "79bdc6d4-fb4e-44da-9959-f1fb949e9b0e"
      },
      "outputs": [
        {
          "output_type": "stream",
          "name": "stdout",
          "text": [
            "1 x 1 = 1         2 x 1 = 2         3 x 1 = 3         4 x 1 = 4         5 x 1 = 5         6 x 1 = 6         7 x 1 = 7         8 x 1 = 8         9 x 1 = 9          \n",
            "1 x 2 = 2         2 x 2 = 4         3 x 2 = 6         4 x 2 = 8         5 x 2 = 10        6 x 2 = 12        7 x 2 = 14        8 x 2 = 16        9 x 2 = 18         \n",
            "1 x 3 = 3         2 x 3 = 6         3 x 3 = 9         4 x 3 = 12        5 x 3 = 15        6 x 3 = 18        7 x 3 = 21        8 x 3 = 24        9 x 3 = 27         \n",
            "1 x 4 = 4         2 x 4 = 8         3 x 4 = 12        4 x 4 = 16        5 x 4 = 20        6 x 4 = 24        7 x 4 = 28        8 x 4 = 32        9 x 4 = 36         \n",
            "1 x 5 = 5         2 x 5 = 10        3 x 5 = 15        4 x 5 = 20        5 x 5 = 25        6 x 5 = 30        7 x 5 = 35        8 x 5 = 40        9 x 5 = 45         \n",
            "1 x 6 = 6         2 x 6 = 12        3 x 6 = 18        4 x 6 = 24        5 x 6 = 30        6 x 6 = 36        7 x 6 = 42        8 x 6 = 48        9 x 6 = 54         \n",
            "1 x 7 = 7         2 x 7 = 14        3 x 7 = 21        4 x 7 = 28        5 x 7 = 35        6 x 7 = 42        7 x 7 = 49        8 x 7 = 56        9 x 7 = 63         \n",
            "1 x 8 = 8         2 x 8 = 16        3 x 8 = 24        4 x 8 = 32        5 x 8 = 40        6 x 8 = 48        7 x 8 = 56        8 x 8 = 64        9 x 8 = 72         \n",
            "1 x 9 = 9         2 x 9 = 18        3 x 9 = 27        4 x 9 = 36        5 x 9 = 45        6 x 9 = 54        7 x 9 = 63        8 x 9 = 72        9 x 9 = 81         \n"
          ]
        }
      ],
      "source": [
        "i=1\n",
        "while (i<10):\n",
        "  j=1\n",
        "  while (j<10):\n",
        "    print(f'{j} x {i} = {i*j:<10}',end='')\n",
        "    j+=1\n",
        "  i+=1\n",
        "  print(\" \")\n"
      ]
    },
    {
      "cell_type": "code",
      "source": [
        "import random\n",
        "number = random.sample(range(1,10),4)\n",
        "print(number)\n",
        "a=0\n",
        "b=0\n",
        "n=0\n",
        "t=0\n",
        "while t<=3 and a!=4:\n",
        "  a=0\n",
        "  b=0\n",
        "  n=0\n",
        "  x=list(input(\"請輸入一個四位數字，最多只能猜四次：\"))\n",
        "  for i in x:\n",
        "    if n<len(number) and int(x[n]) == number[n]:\n",
        "      a+=1\n",
        "    else:\n",
        "      if int(i) in number:\n",
        "        b+=1\n",
        "    n+=1\n",
        "  if len(x)==4:\n",
        "    t+=1\n",
        "  else:\n",
        "    print(\"位數錯了，送你一次機會好了，這次不算\")\n",
        "    t=t\n",
        "  n+=1\n",
        "  print(a,end=\" \")\n",
        "  print(\"A\",end=\" \")\n",
        "  print(b,end=\" \")\n",
        "  print(\"B\")\n",
        "if a==4 and b==0:\n",
        "  print(\"答對了！！！！！！！！！恭喜恭喜你好棒！\")\n",
        "print(t,end=' ')\n",
        "print(\"次猜測\")\n"
      ],
      "metadata": {
        "colab": {
          "base_uri": "https://localhost:8080/"
        },
        "id": "hOviU_V97YBh",
        "outputId": "93560203-65e9-4099-fcb1-bb912188d4d6"
      },
      "execution_count": null,
      "outputs": [
        {
          "output_type": "stream",
          "name": "stdout",
          "text": [
            "[4, 5, 8, 6]\n",
            "請輸入一個四位數字，最多只能猜四次：60000\n",
            "位數錯了，送你一次機會好了，這次不算\n",
            "0 A 1 B\n",
            "請輸入一個四位數字，最多只能猜四次：45000\n",
            "位數錯了，送你一次機會好了，這次不算\n",
            "2 A 0 B\n",
            "請輸入一個四位數字，最多只能猜四次：300\n",
            "位數錯了，送你一次機會好了，這次不算\n",
            "0 A 0 B\n",
            "請輸入一個四位數字，最多只能猜四次：8500\n",
            "1 A 1 B\n",
            "請輸入一個四位數字，最多只能猜四次：6580\n",
            "2 A 1 B\n",
            "請輸入一個四位數字，最多只能猜四次：4580\n",
            "3 A 0 B\n",
            "請輸入一個四位數字，最多只能猜四次：4586\n",
            "4 A 0 B\n",
            "答對了！！！！！！！！！恭喜恭喜你好棒！\n",
            "4 次猜測\n"
          ]
        }
      ]
    }
  ]
}