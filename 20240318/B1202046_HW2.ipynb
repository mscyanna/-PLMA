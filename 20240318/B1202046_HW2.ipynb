{
  "nbformat": 4,
  "nbformat_minor": 0,
  "metadata": {
    "colab": {
      "provenance": []
    },
    "kernelspec": {
      "name": "python3",
      "display_name": "Python 3"
    },
    "language_info": {
      "name": "python"
    }
  },
  "cells": [
    {
      "cell_type": "code",
      "execution_count": 60,
      "metadata": {
        "colab": {
          "base_uri": "https://localhost:8080/"
        },
        "id": "ArTXXGXhYOmK",
        "outputId": "1432065d-e128-4ad2-db34-5e79da41662a"
      },
      "outputs": [
        {
          "output_type": "stream",
          "name": "stdout",
          "text": [
            "A\n",
            "['K', 'H', 'U']\n"
          ]
        }
      ],
      "source": [
        "a='C,B,A'\n",
        "b=['F','G','H']\n",
        "c=a.split(\",\")\n",
        "c.extend(b)\n",
        "\n",
        "c[0]='K'\n",
        "d=c.pop(2)\n",
        "del c[1:4]\n",
        "c.append('U')\n",
        "print(d)\n",
        "print(c)\n"
      ]
    },
    {
      "cell_type": "code",
      "source": [
        "a=(input(\"輸入一個八位數：\"))\n",
        "print(a[4])"
      ],
      "metadata": {
        "colab": {
          "base_uri": "https://localhost:8080/"
        },
        "id": "3YukQXRVeNdm",
        "outputId": "13ed5828-9a79-4e00-cd68-69d209b4e283"
      },
      "execution_count": 5,
      "outputs": [
        {
          "output_type": "stream",
          "name": "stdout",
          "text": [
            "輸入一個八位數：45678932\n",
            "8\n"
          ]
        }
      ]
    },
    {
      "cell_type": "code",
      "source": [
        "a='My ID is B1202046'\n",
        "b=(a[9:17])\n",
        "c=a.split(' ')\n",
        "print(len(c))\n",
        "print(len(b))"
      ],
      "metadata": {
        "colab": {
          "base_uri": "https://localhost:8080/"
        },
        "id": "8_OHSkT2f9uO",
        "outputId": "1b4d84cd-7ca3-49d9-e65a-31d0fc127292"
      },
      "execution_count": 21,
      "outputs": [
        {
          "output_type": "stream",
          "name": "stdout",
          "text": [
            "4\n",
            "8\n"
          ]
        }
      ]
    },
    {
      "cell_type": "code",
      "source": [
        "a=\"I'm a student\"\n",
        "b=a.split( )\n",
        "c=(b[0])\n",
        "d=c.split(\"'\")\n",
        "e=(d[1])\n",
        "print(e)"
      ],
      "metadata": {
        "colab": {
          "base_uri": "https://localhost:8080/"
        },
        "id": "bp_HHvWuibfk",
        "outputId": "70d60333-2ac7-4eb7-cac1-c5cd03a61a3f"
      },
      "execution_count": 43,
      "outputs": [
        {
          "output_type": "stream",
          "name": "stdout",
          "text": [
            "m\n"
          ]
        }
      ]
    }
  ]
}