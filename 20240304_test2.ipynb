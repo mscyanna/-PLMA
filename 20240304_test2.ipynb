{
  "nbformat": 4,
  "nbformat_minor": 0,
  "metadata": {
    "colab": {
      "provenance": [],
      "toc_visible": true
    },
    "kernelspec": {
      "name": "python3",
      "display_name": "Python 3"
    },
    "language_info": {
      "name": "python"
    }
  },
  "cells": [
    {
      "cell_type": "code",
      "execution_count": null,
      "metadata": {
        "id": "kaTRyF_Qdu8F",
        "colab": {
          "base_uri": "https://localhost:8080/"
        },
        "outputId": "7611b4d2-8dcc-410c-baed-d9f915293a45"
      },
      "outputs": [
        {
          "output_type": "stream",
          "name": "stdout",
          "text": [
            "hello world~~~~~\n"
          ]
        }
      ],
      "source": [
        "x= 'hello world~~~~~'\n",
        "print(x)"
      ]
    },
    {
      "cell_type": "code",
      "source": [
        "y= 'hello 助教我想試試看下面一組程式碼如果拼錯 print會出現甚麼'\n",
        "print(y)"
      ],
      "metadata": {
        "colab": {
          "base_uri": "https://localhost:8080/"
        },
        "id": "LB-77bTNe90L",
        "outputId": "1900e27e-aa76-4ef1-fb12-371f2cf98408"
      },
      "execution_count": null,
      "outputs": [
        {
          "output_type": "stream",
          "name": "stdout",
          "text": [
            "hello 助教我想試試看下面一組程式碼如果拼錯 print會出現甚麼\n"
          ]
        }
      ]
    },
    {
      "cell_type": "code",
      "source": [
        "z= 'bye bye 小貓咪'\n",
        "prnt(z)"
      ],
      "metadata": {
        "colab": {
          "base_uri": "https://localhost:8080/",
          "height": 159
        },
        "id": "ZBDCYiRbfnCT",
        "outputId": "f523d153-feaf-4d1d-87b5-ab4596f6626b"
      },
      "execution_count": null,
      "outputs": [
        {
          "output_type": "error",
          "ename": "NameError",
          "evalue": "name 'prnt' is not defined",
          "traceback": [
            "\u001b[0;31m---------------------------------------------------------------------------\u001b[0m",
            "\u001b[0;31mNameError\u001b[0m                                 Traceback (most recent call last)",
            "\u001b[0;32m<ipython-input-6-aef6042c7d0a>\u001b[0m in \u001b[0;36m<cell line: 2>\u001b[0;34m()\u001b[0m\n\u001b[1;32m      1\u001b[0m \u001b[0mz\u001b[0m\u001b[0;34m=\u001b[0m \u001b[0;34m'bye bye 小貓咪'\u001b[0m\u001b[0;34m\u001b[0m\u001b[0;34m\u001b[0m\u001b[0m\n\u001b[0;32m----> 2\u001b[0;31m \u001b[0mprnt\u001b[0m\u001b[0;34m(\u001b[0m\u001b[0mz\u001b[0m\u001b[0;34m)\u001b[0m\u001b[0;34m\u001b[0m\u001b[0;34m\u001b[0m\u001b[0m\n\u001b[0m",
            "\u001b[0;31mNameError\u001b[0m: name 'prnt' is not defined"
          ]
        }
      ]
    },
    {
      "cell_type": "code",
      "source": [
        "z= 'bye bye 小貓咪'\n",
        "print(z)"
      ],
      "metadata": {
        "colab": {
          "base_uri": "https://localhost:8080/"
        },
        "id": "Z4JVOBDYf3Us",
        "outputId": "21fb7d83-93d4-4042-cdb4-4490d0adf478"
      },
      "execution_count": null,
      "outputs": [
        {
          "output_type": "stream",
          "name": "stdout",
          "text": [
            "bye bye 小貓咪\n"
          ]
        }
      ]
    },
    {
      "cell_type": "code",
      "source": [
        "x=2\n",
        "y=1\n",
        "a=2*x+y\n",
        "b=100-y\n",
        "c=a*b\n",
        "print (c)\n"
      ],
      "metadata": {
        "colab": {
          "base_uri": "https://localhost:8080/"
        },
        "id": "8xPUpeJDd2KR",
        "outputId": "0351c4b4-c4b6-4006-e7f9-bb5baba240af"
      },
      "execution_count": null,
      "outputs": [
        {
          "output_type": "stream",
          "name": "stdout",
          "text": [
            "495\n"
          ]
        }
      ]
    },
    {
      "cell_type": "code",
      "source": [
        "y=4\n",
        "a=2*y+1\n",
        "b=100/(a)\n",
        "print(b)"
      ],
      "metadata": {
        "colab": {
          "base_uri": "https://localhost:8080/"
        },
        "id": "YZEmUSnKec2x",
        "outputId": "15870f65-2beb-40b3-aaa2-3d3718955655"
      },
      "execution_count": null,
      "outputs": [
        {
          "output_type": "stream",
          "name": "stdout",
          "text": [
            "11.11111111111111\n"
          ]
        }
      ]
    },
    {
      "cell_type": "code",
      "source": [
        "x=2\n",
        "y=1\n",
        "a=2x+y\n",
        "b=100-y\n",
        "c=a*b\n",
        "print (c)"
      ],
      "metadata": {
        "id": "rwxH3k-VfKwZ",
        "outputId": "ae2f180c-5ea0-412e-9175-633218124783",
        "colab": {
          "base_uri": "https://localhost:8080/",
          "height": 106
        }
      },
      "execution_count": null,
      "outputs": [
        {
          "output_type": "error",
          "ename": "SyntaxError",
          "evalue": "invalid decimal literal (<ipython-input-6-993a0c9d5797>, line 3)",
          "traceback": [
            "\u001b[0;36m  File \u001b[0;32m\"<ipython-input-6-993a0c9d5797>\"\u001b[0;36m, line \u001b[0;32m3\u001b[0m\n\u001b[0;31m    a=2x+y\u001b[0m\n\u001b[0m      ^\u001b[0m\n\u001b[0;31mSyntaxError\u001b[0m\u001b[0;31m:\u001b[0m invalid decimal literal\n"
          ]
        }
      ]
    }
  ]
}