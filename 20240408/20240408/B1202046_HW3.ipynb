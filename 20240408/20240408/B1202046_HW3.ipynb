{
  "nbformat": 4,
  "nbformat_minor": 0,
  "metadata": {
    "colab": {
      "provenance": []
    },
    "kernelspec": {
      "name": "python3",
      "display_name": "Python 3"
    },
    "language_info": {
      "name": "python"
    }
  },
  "cells": [
    {
      "cell_type": "code",
      "execution_count": 30,
      "metadata": {
        "colab": {
          "base_uri": "https://localhost:8080/"
        },
        "id": "ZpS2NggipWN8",
        "outputId": "61686a6a-aa0f-4c21-a09c-4ce1e50163d7"
      },
      "outputs": [
        {
          "output_type": "stream",
          "name": "stdout",
          "text": [
            "請輸入西元年份：1804\n",
            "閏年\n"
          ]
        }
      ],
      "source": [
        "a=int(input(\"請輸入西元年份：\"))\n",
        "if a%4!=0:\n",
        "  print('平年')\n",
        "else:\n",
        "  if a<=1582:\n",
        "    if a%4==0:\n",
        "      print(\"閏年\")\n",
        "  if a>1582:\n",
        "    if a%4==0:\n",
        "      if a%100!=0 or a%400==0:\n",
        "        print(\"閏年\")\n",
        "      else:\n",
        "        print('平年')"
      ]
    }
  ]
}