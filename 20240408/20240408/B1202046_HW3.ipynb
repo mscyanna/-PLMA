{
  "nbformat": 4,
  "nbformat_minor": 0,
  "metadata": {
    "colab": {
      "provenance": []
    },
    "kernelspec": {
      "name": "python3",
      "display_name": "Python 3"
    },
    "language_info": {
      "name": "python"
    }
  },
  "cells": [
    {
      "cell_type": "code",
      "execution_count": 20,
      "metadata": {
        "colab": {
          "base_uri": "https://localhost:8080/"
        },
        "id": "ZpS2NggipWN8",
        "outputId": "fed9a4ac-3f11-4692-bc76-799a08bcd8d9"
      },
      "outputs": [
        {
          "output_type": "stream",
          "name": "stdout",
          "text": [
            "請輸入西元年份：1700\n",
            "平年\n"
          ]
        }
      ],
      "source": [
        "a=int(input(\"請輸入西元年份：\"))\n",
        "if a%4!=0:\n",
        "  print('平年')\n",
        "else:\n",
        "  if a<=1582:\n",
        "    if a%4==0:\n",
        "      print(\"閏年\")\n",
        "  if a>1582:\n",
        "    if a%4==0:\n",
        "      if a%100!=0 or a%400==0:\n",
        "        print(\"閏年\")\n",
        "    if a%4!=0 or a%100==0:\n",
        "      print('平年')"
      ]
    }
  ]
}