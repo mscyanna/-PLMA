{
  "nbformat": 4,
  "nbformat_minor": 0,
  "metadata": {
    "colab": {
      "provenance": []
    },
    "kernelspec": {
      "name": "python3",
      "display_name": "Python 3"
    },
    "language_info": {
      "name": "python"
    }
  },
  "cells": [
    {
      "cell_type": "code",
      "execution_count": 11,
      "metadata": {
        "colab": {
          "base_uri": "https://localhost:8080/"
        },
        "id": "a_VWSmnxfJTo",
        "outputId": "baa6c0fd-0b67-4bdc-9bae-85a4fcbe893d"
      },
      "outputs": [
        {
          "output_type": "stream",
          "name": "stdout",
          "text": [
            "身高(以公分為單位)165\n",
            "體重(以公斤為單位)55\n",
            "BMI= 20.202020202020204\n",
            "體位：適中\n"
          ]
        }
      ],
      "source": [
        "a=int(input(\"身高(以公分為單位)\"))\n",
        "b=int(input(\"體重(以公斤為單位)\"))\n",
        "a/=100\n",
        "a**=2\n",
        "BMI=b/a\n",
        "print('BMI=',BMI)\n",
        "if BMI<18.5:\n",
        "  print('體位：過輕')\n",
        "elif 18.5<=BMI<24:\n",
        "  print('體位：適中')\n",
        "elif 24<BMI<27:\n",
        "  print('體位：過重')\n",
        "else:\n",
        "  print('體位：肥胖')\n"
      ]
    },
    {
      "cell_type": "code",
      "source": [
        "a=int(input(\"請輸入第一個數字：\"))\n",
        "c=(input(\"請輸入運算符號(+,-,*,/)：\"))\n",
        "b=int(input(\"請輸入第二個數字：\"))\n",
        "if c==\"+\":\n",
        "  d=a+b\n",
        "  print(d)\n",
        "elif c==\"-\":\n",
        "  d=a-b\n",
        "  print(d)\n",
        "elif c==\"*\":\n",
        "  d=a*b\n",
        "  print(d)\n",
        "elif c==\"/\":\n",
        "  d=a/b\n",
        "  print(d)"
      ],
      "metadata": {
        "colab": {
          "base_uri": "https://localhost:8080/"
        },
        "id": "mpf1AlM9lhsG",
        "outputId": "f0f628dc-ec88-4f17-87ab-c7bf9268779d"
      },
      "execution_count": 21,
      "outputs": [
        {
          "output_type": "stream",
          "name": "stdout",
          "text": [
            "請輸入第一個數字：8\n",
            "請輸入運算符號(+,-,*,/)：/\n",
            "請輸入第二個數字：6\n",
            "1.3333333333333333\n"
          ]
        }
      ]
    }
  ]
}