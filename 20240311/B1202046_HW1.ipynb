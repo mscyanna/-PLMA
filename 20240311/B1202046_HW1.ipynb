{
  "nbformat": 4,
  "nbformat_minor": 0,
  "metadata": {
    "colab": {
      "provenance": []
    },
    "kernelspec": {
      "name": "python3",
      "display_name": "Python 3"
    },
    "language_info": {
      "name": "python"
    }
  },
  "cells": [
    {
      "cell_type": "code",
      "execution_count": 1,
      "metadata": {
        "colab": {
          "base_uri": "https://localhost:8080/"
        },
        "id": "sYijdqZcnzx5",
        "outputId": "628a8d82-7ed3-4aec-8159-e96f1f0c38d1"
      },
      "outputs": [
        {
          "output_type": "stream",
          "name": "stdout",
          "text": [
            "I'm a student\n"
          ]
        }
      ],
      "source": [
        "print(\"I'm a student\")"
      ]
    },
    {
      "cell_type": "code",
      "source": [
        "a=int(input(\"輸入x1=\"))\n",
        "b=int(input(\"輸入x2=\"))\n",
        "c=int(input(\"輸入y1=\"))\n",
        "d=int(input(\"輸入y2=\"))\n",
        "e=((b-a)**2+(d-c)**2)**(1/2)\n",
        "print(e)"
      ],
      "metadata": {
        "colab": {
          "base_uri": "https://localhost:8080/"
        },
        "id": "iPJ7gt1loAGy",
        "outputId": "4479e670-b7f3-4017-b5a7-0d2d5e90204e"
      },
      "execution_count": 22,
      "outputs": [
        {
          "output_type": "stream",
          "name": "stdout",
          "text": [
            "輸入x1=3\n",
            "輸入x2=2\n",
            "輸入y1=2\n",
            "輸入y2=5\n",
            "3.1622776601683795\n"
          ]
        }
      ]
    },
    {
      "cell_type": "code",
      "source": [
        "a=int(input(\"身高(以公分為單位)\"))\n",
        "b=int(input(\"體重(以公斤為單位)\"))\n",
        "a/=100\n",
        "a**=2\n",
        "BMI=b/a\n",
        "print(BMI)"
      ],
      "metadata": {
        "colab": {
          "base_uri": "https://localhost:8080/"
        },
        "id": "LTHdORJPqrA4",
        "outputId": "39e46668-2f6d-4105-995f-7c67b4254726"
      },
      "execution_count": 20,
      "outputs": [
        {
          "output_type": "stream",
          "name": "stdout",
          "text": [
            "身高(以公分為單位)165\n",
            "體重(以公斤為單位)55\n",
            "20.202020202020204\n"
          ]
        }
      ]
    }
  ]
}